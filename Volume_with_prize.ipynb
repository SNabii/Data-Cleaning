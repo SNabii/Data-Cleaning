{
  "nbformat": 4,
  "nbformat_minor": 0,
  "metadata": {
    "colab": {
      "name": "Volume_with_prize.ipynb",
      "provenance": [],
      "authorship_tag": "ABX9TyP5l188GL0D+2zW7V9si5MI",
      "include_colab_link": true
    },
    "kernelspec": {
      "name": "python3",
      "display_name": "Python 3"
    }
  },
  "cells": [
    {
      "cell_type": "markdown",
      "metadata": {
        "id": "view-in-github",
        "colab_type": "text"
      },
      "source": [
        "<a href=\"https://colab.research.google.com/github/SNabii/Data-Cleaning/blob/master/Volume_with_prize.ipynb\" target=\"_parent\"><img src=\"https://colab.research.google.com/assets/colab-badge.svg\" alt=\"Open In Colab\"/></a>"
      ]
    },
    {
      "cell_type": "code",
      "metadata": {
        "id": "lgcT493KY573",
        "colab_type": "code",
        "colab": {
          "base_uri": "https://localhost:8080/",
          "height": 34
        },
        "outputId": "ce22ea02-864a-4415-de0b-17ec8d99c993"
      },
      "source": [
        "# import libraries\n",
        "import requests\n",
        "from bs4 import BeautifulSoup\n",
        "import pandas as pd\n",
        "import numpy as np\n",
        "import re\n",
        "import os\n",
        "from time import sleep\n",
        "# FUnctions  -----------------------------------------------------------------------------------------------------\n",
        "def trim_all_columns(df):\n",
        "    \"\"\"\n",
        "    Trim whitespace from ends of each value across all series in dataframe\n",
        "    \"\"\"\n",
        "    trim_strings = lambda x: x.strip() if isinstance(x, str) else x\n",
        "    return df.applymap(trim_strings)\n",
        "def data_basic_clean(fsh):\n",
        "    fsh.columns = [c.strip() for c in fsh.columns]\n",
        "    fsh.columns = [c.replace(' ', '_') for c in fsh.columns]\n",
        "    fsh.columns = [c.replace('?', '') for c in fsh.columns]\n",
        "    fsh.columns = map(str.lower, fsh.columns)\n",
        "    fsh.replace(['None','nan','Nan',' ','NaT','#REF!'],np.nan,inplace=True)\n",
        "    \n",
        "    fsh = trim_all_columns(fsh)\n",
        "    fsh=fsh.drop_duplicates(keep='last')\n",
        "    df = pd.DataFrame(fsh)\n",
        "    return(df)\n",
        "# ----------------------------------------------------------------------------------------------------------------\n",
        "\n",
        "os.getcwd()"
      ],
      "execution_count": 115,
      "outputs": [
        {
          "output_type": "execute_result",
          "data": {
            "text/plain": [
              "'/content'"
            ]
          },
          "metadata": {
            "tags": []
          },
          "execution_count": 115
        }
      ]
    },
    {
      "cell_type": "code",
      "metadata": {
        "id": "7lIhubbzzIW7",
        "colab_type": "code",
        "colab": {}
      },
      "source": [
        "day_para = 2"
      ],
      "execution_count": 0,
      "outputs": []
    },
    {
      "cell_type": "code",
      "metadata": {
        "id": "hW4FfEoou-O6",
        "colab_type": "code",
        "colab": {
          "base_uri": "https://localhost:8080/",
          "height": 204
        },
        "outputId": "e5737a10-b9d0-4746-a431-6bf07177c847"
      },
      "source": [
        "# specify url\n",
        "if day_para ==1:\n",
        "  url  = f'https://www.moneycontrol.com/india/stockmarket/price-increase-volume-increase/marketstatistics/nse/{day_para}day.html'\n",
        "if day_para >1:\n",
        "  url  = f'https://www.moneycontrol.com/india/stockmarket/price-increase-volume-increase/marketstatistics/nse/{day_para}days.html'\n",
        "tab_id = 'cnstv-gainer-up'\n",
        "\n",
        "\n",
        "page = requests.get(url)\n",
        "# Parse html using BeautifulSoup, you can use a different parser like lxml if present\n",
        "soup = BeautifulSoup(page.content, 'html.parser')\n",
        "tbl = soup.find(\"table\",{\"id\":f\"{tab_id}\"})\n",
        "\n",
        "t1 = pd.read_html(str(tbl))[0]\n",
        "t1 = data_basic_clean(t1)\n",
        "t1['company'] =  t1['company'].str.replace('Add to Watchlist Add to Portfolio','')\n",
        "\n",
        "\n",
        "day1 =  pd.DataFrame(t1)\n",
        "day1.head()"
      ],
      "execution_count": 109,
      "outputs": [
        {
          "output_type": "execute_result",
          "data": {
            "text/html": [
              "<div>\n",
              "<style scoped>\n",
              "    .dataframe tbody tr th:only-of-type {\n",
              "        vertical-align: middle;\n",
              "    }\n",
              "\n",
              "    .dataframe tbody tr th {\n",
              "        vertical-align: top;\n",
              "    }\n",
              "\n",
              "    .dataframe thead th {\n",
              "        text-align: right;\n",
              "    }\n",
              "</style>\n",
              "<table border=\"1\" class=\"dataframe\">\n",
              "  <thead>\n",
              "    <tr style=\"text-align: right;\">\n",
              "      <th></th>\n",
              "      <th>company</th>\n",
              "      <th>price</th>\n",
              "      <th>change</th>\n",
              "      <th>%change</th>\n",
              "    </tr>\n",
              "  </thead>\n",
              "  <tbody>\n",
              "    <tr>\n",
              "      <th>0</th>\n",
              "      <td>Andhra Cement</td>\n",
              "      <td>2.60</td>\n",
              "      <td>0.4</td>\n",
              "      <td>18.18</td>\n",
              "    </tr>\n",
              "    <tr>\n",
              "      <th>1</th>\n",
              "      <td>Adlabs Ent</td>\n",
              "      <td>3.40</td>\n",
              "      <td>0.3</td>\n",
              "      <td>9.68</td>\n",
              "    </tr>\n",
              "    <tr>\n",
              "      <th>2</th>\n",
              "      <td>Metalyst Forgin</td>\n",
              "      <td>4.65</td>\n",
              "      <td>0.2</td>\n",
              "      <td>4.49</td>\n",
              "    </tr>\n",
              "    <tr>\n",
              "      <th>3</th>\n",
              "      <td>Archies</td>\n",
              "      <td>9.50</td>\n",
              "      <td>0.2</td>\n",
              "      <td>2.15</td>\n",
              "    </tr>\n",
              "    <tr>\n",
              "      <th>4</th>\n",
              "      <td>AksharChem</td>\n",
              "      <td>201.45</td>\n",
              "      <td>20.6</td>\n",
              "      <td>11.39</td>\n",
              "    </tr>\n",
              "  </tbody>\n",
              "</table>\n",
              "</div>"
            ],
            "text/plain": [
              "            company   price  change  %change\n",
              "0    Andhra Cement     2.60     0.4    18.18\n",
              "1       Adlabs Ent     3.40     0.3     9.68\n",
              "2  Metalyst Forgin     4.65     0.2     4.49\n",
              "3          Archies     9.50     0.2     2.15\n",
              "4       AksharChem   201.45    20.6    11.39"
            ]
          },
          "metadata": {
            "tags": []
          },
          "execution_count": 109
        }
      ]
    },
    {
      "cell_type": "markdown",
      "metadata": {
        "id": "y0bgs4BYwDCU",
        "colab_type": "text"
      },
      "source": [
        "Day 1 : Stock Prizing"
      ]
    },
    {
      "cell_type": "code",
      "metadata": {
        "id": "ht-VRsfzvCkj",
        "colab_type": "code",
        "colab": {
          "base_uri": "https://localhost:8080/",
          "height": 204
        },
        "outputId": "dc8b77c1-4a02-45a3-b1c0-4c395912a885"
      },
      "source": [
        "# specify url\n",
        "if day_para ==1:\n",
        "  url  = f'https://www.moneycontrol.com/india/stockmarket/price-increase-volume-increase/marketstatistics/nse/{day_para}day.html'\n",
        "if day_para >1:\n",
        "  url  = f'https://www.moneycontrol.com/india/stockmarket/price-increase-volume-increase/marketstatistics/nse/{day_para}days.html'\n",
        "\n",
        "tab_id = 'cnstv-gainer-up0'\n",
        "\n",
        "\n",
        "page = requests.get(url)\n",
        "# Parse html using BeautifulSoup, you can use a different parser like lxml if present\n",
        "soup = BeautifulSoup(page.content, 'html.parser')\n",
        "tbl = soup.find(\"table\",{\"id\":\"cnstv-gainer-up0\"})\n",
        "\n",
        "t1 = pd.read_html(str(tbl))[0]\n",
        "t1 = data_basic_clean(t1)\n",
        "#t1['company'] =  t1['company'].str.replace('Add to Watchlist Add to Portfolio','')\n",
        "\n",
        "\n",
        "day1_stock =  pd.DataFrame(t1)\n",
        "day1_stock.head()"
      ],
      "execution_count": 110,
      "outputs": [
        {
          "output_type": "execute_result",
          "data": {
            "text/html": [
              "<div>\n",
              "<style scoped>\n",
              "    .dataframe tbody tr th:only-of-type {\n",
              "        vertical-align: middle;\n",
              "    }\n",
              "\n",
              "    .dataframe tbody tr th {\n",
              "        vertical-align: top;\n",
              "    }\n",
              "\n",
              "    .dataframe thead th {\n",
              "        text-align: right;\n",
              "    }\n",
              "</style>\n",
              "<table border=\"1\" class=\"dataframe\">\n",
              "  <thead>\n",
              "    <tr style=\"text-align: right;\">\n",
              "      <th></th>\n",
              "      <th>price</th>\n",
              "      <th>change</th>\n",
              "      <th>%change</th>\n",
              "      <th>volumes</th>\n",
              "      <th>deliv_vol</th>\n",
              "    </tr>\n",
              "  </thead>\n",
              "  <tbody>\n",
              "    <tr>\n",
              "      <th>0</th>\n",
              "      <td>2.20</td>\n",
              "      <td>0.4</td>\n",
              "      <td>18.18</td>\n",
              "      <td>181913</td>\n",
              "      <td>160822</td>\n",
              "    </tr>\n",
              "    <tr>\n",
              "      <th>1</th>\n",
              "      <td>3.10</td>\n",
              "      <td>0.3</td>\n",
              "      <td>9.68</td>\n",
              "      <td>39703</td>\n",
              "      <td>37800</td>\n",
              "    </tr>\n",
              "    <tr>\n",
              "      <th>2</th>\n",
              "      <td>4.45</td>\n",
              "      <td>0.2</td>\n",
              "      <td>4.49</td>\n",
              "      <td>3910</td>\n",
              "      <td>3895</td>\n",
              "    </tr>\n",
              "    <tr>\n",
              "      <th>3</th>\n",
              "      <td>9.30</td>\n",
              "      <td>0.2</td>\n",
              "      <td>2.15</td>\n",
              "      <td>34027</td>\n",
              "      <td>22798</td>\n",
              "    </tr>\n",
              "    <tr>\n",
              "      <th>4</th>\n",
              "      <td>180.85</td>\n",
              "      <td>20.6</td>\n",
              "      <td>11.39</td>\n",
              "      <td>6629</td>\n",
              "      <td>3396</td>\n",
              "    </tr>\n",
              "  </tbody>\n",
              "</table>\n",
              "</div>"
            ],
            "text/plain": [
              "    price  change  %change  volumes  deliv_vol\n",
              "0    2.20     0.4    18.18   181913     160822\n",
              "1    3.10     0.3     9.68    39703      37800\n",
              "2    4.45     0.2     4.49     3910       3895\n",
              "3    9.30     0.2     2.15    34027      22798\n",
              "4  180.85    20.6    11.39     6629       3396"
            ]
          },
          "metadata": {
            "tags": []
          },
          "execution_count": 110
        }
      ]
    },
    {
      "cell_type": "code",
      "metadata": {
        "id": "TlBwat0HvCnw",
        "colab_type": "code",
        "colab": {
          "base_uri": "https://localhost:8080/",
          "height": 359
        },
        "outputId": "f013245a-71a9-4fa6-a5f6-36d56626d600"
      },
      "source": [
        "d1_performance = pd.concat([day1,day1_stock],axis=1)\n",
        "d1_performance.head(10)"
      ],
      "execution_count": 111,
      "outputs": [
        {
          "output_type": "execute_result",
          "data": {
            "text/html": [
              "<div>\n",
              "<style scoped>\n",
              "    .dataframe tbody tr th:only-of-type {\n",
              "        vertical-align: middle;\n",
              "    }\n",
              "\n",
              "    .dataframe tbody tr th {\n",
              "        vertical-align: top;\n",
              "    }\n",
              "\n",
              "    .dataframe thead th {\n",
              "        text-align: right;\n",
              "    }\n",
              "</style>\n",
              "<table border=\"1\" class=\"dataframe\">\n",
              "  <thead>\n",
              "    <tr style=\"text-align: right;\">\n",
              "      <th></th>\n",
              "      <th>company</th>\n",
              "      <th>price</th>\n",
              "      <th>change</th>\n",
              "      <th>%change</th>\n",
              "      <th>price</th>\n",
              "      <th>change</th>\n",
              "      <th>%change</th>\n",
              "      <th>volumes</th>\n",
              "      <th>deliv_vol</th>\n",
              "    </tr>\n",
              "  </thead>\n",
              "  <tbody>\n",
              "    <tr>\n",
              "      <th>0</th>\n",
              "      <td>Andhra Cement</td>\n",
              "      <td>2.60</td>\n",
              "      <td>0.40</td>\n",
              "      <td>18.18</td>\n",
              "      <td>2.20</td>\n",
              "      <td>0.40</td>\n",
              "      <td>18.18</td>\n",
              "      <td>181913</td>\n",
              "      <td>160822</td>\n",
              "    </tr>\n",
              "    <tr>\n",
              "      <th>1</th>\n",
              "      <td>Adlabs Ent</td>\n",
              "      <td>3.40</td>\n",
              "      <td>0.30</td>\n",
              "      <td>9.68</td>\n",
              "      <td>3.10</td>\n",
              "      <td>0.30</td>\n",
              "      <td>9.68</td>\n",
              "      <td>39703</td>\n",
              "      <td>37800</td>\n",
              "    </tr>\n",
              "    <tr>\n",
              "      <th>2</th>\n",
              "      <td>Metalyst Forgin</td>\n",
              "      <td>4.65</td>\n",
              "      <td>0.20</td>\n",
              "      <td>4.49</td>\n",
              "      <td>4.45</td>\n",
              "      <td>0.20</td>\n",
              "      <td>4.49</td>\n",
              "      <td>3910</td>\n",
              "      <td>3895</td>\n",
              "    </tr>\n",
              "    <tr>\n",
              "      <th>3</th>\n",
              "      <td>Archies</td>\n",
              "      <td>9.50</td>\n",
              "      <td>0.20</td>\n",
              "      <td>2.15</td>\n",
              "      <td>9.30</td>\n",
              "      <td>0.20</td>\n",
              "      <td>2.15</td>\n",
              "      <td>34027</td>\n",
              "      <td>22798</td>\n",
              "    </tr>\n",
              "    <tr>\n",
              "      <th>4</th>\n",
              "      <td>AksharChem</td>\n",
              "      <td>201.45</td>\n",
              "      <td>20.60</td>\n",
              "      <td>11.39</td>\n",
              "      <td>180.85</td>\n",
              "      <td>20.60</td>\n",
              "      <td>11.39</td>\n",
              "      <td>6629</td>\n",
              "      <td>3396</td>\n",
              "    </tr>\n",
              "    <tr>\n",
              "      <th>5</th>\n",
              "      <td>Shirpur Gold</td>\n",
              "      <td>7.35</td>\n",
              "      <td>0.15</td>\n",
              "      <td>2.08</td>\n",
              "      <td>7.20</td>\n",
              "      <td>0.15</td>\n",
              "      <td>2.08</td>\n",
              "      <td>28407</td>\n",
              "      <td>19399</td>\n",
              "    </tr>\n",
              "    <tr>\n",
              "      <th>6</th>\n",
              "      <td>Apar Ind</td>\n",
              "      <td>301.40</td>\n",
              "      <td>2.25</td>\n",
              "      <td>0.75</td>\n",
              "      <td>299.15</td>\n",
              "      <td>2.25</td>\n",
              "      <td>0.75</td>\n",
              "      <td>7448</td>\n",
              "      <td>4337</td>\n",
              "    </tr>\n",
              "    <tr>\n",
              "      <th>7</th>\n",
              "      <td>Adhunik Ind</td>\n",
              "      <td>14.20</td>\n",
              "      <td>0.25</td>\n",
              "      <td>1.79</td>\n",
              "      <td>13.95</td>\n",
              "      <td>0.25</td>\n",
              "      <td>1.79</td>\n",
              "      <td>9733</td>\n",
              "      <td>8733</td>\n",
              "    </tr>\n",
              "    <tr>\n",
              "      <th>8</th>\n",
              "      <td>Axis Gold ETF</td>\n",
              "      <td>4277.25</td>\n",
              "      <td>228.25</td>\n",
              "      <td>5.64</td>\n",
              "      <td>4049.00</td>\n",
              "      <td>228.25</td>\n",
              "      <td>5.64</td>\n",
              "      <td>807</td>\n",
              "      <td>549</td>\n",
              "    </tr>\n",
              "    <tr>\n",
              "      <th>9</th>\n",
              "      <td>Ador Welding</td>\n",
              "      <td>213.25</td>\n",
              "      <td>5.80</td>\n",
              "      <td>2.80</td>\n",
              "      <td>207.45</td>\n",
              "      <td>5.80</td>\n",
              "      <td>2.80</td>\n",
              "      <td>3585</td>\n",
              "      <td>1844</td>\n",
              "    </tr>\n",
              "  </tbody>\n",
              "</table>\n",
              "</div>"
            ],
            "text/plain": [
              "            company    price  change  ...  %change  volumes  deliv_vol\n",
              "0    Andhra Cement      2.60    0.40  ...    18.18   181913     160822\n",
              "1       Adlabs Ent      3.40    0.30  ...     9.68    39703      37800\n",
              "2  Metalyst Forgin      4.65    0.20  ...     4.49     3910       3895\n",
              "3          Archies      9.50    0.20  ...     2.15    34027      22798\n",
              "4       AksharChem    201.45   20.60  ...    11.39     6629       3396\n",
              "5     Shirpur Gold      7.35    0.15  ...     2.08    28407      19399\n",
              "6         Apar Ind    301.40    2.25  ...     0.75     7448       4337\n",
              "7      Adhunik Ind     14.20    0.25  ...     1.79     9733       8733\n",
              "8    Axis Gold ETF   4277.25  228.25  ...     5.64      807        549\n",
              "9     Ador Welding    213.25    5.80  ...     2.80     3585       1844\n",
              "\n",
              "[10 rows x 9 columns]"
            ]
          },
          "metadata": {
            "tags": []
          },
          "execution_count": 111
        }
      ]
    },
    {
      "cell_type": "code",
      "metadata": {
        "id": "NoZ5ewj_vkA_",
        "colab_type": "code",
        "colab": {}
      },
      "source": [
        "d1_performance.to_excel(f'd{day_para}.xlsx',index=False)"
      ],
      "execution_count": 0,
      "outputs": []
    },
    {
      "cell_type": "code",
      "metadata": {
        "id": "IxtblMUq4VrJ",
        "colab_type": "code",
        "colab": {}
      },
      "source": [
        ""
      ],
      "execution_count": 0,
      "outputs": []
    },
    {
      "cell_type": "code",
      "metadata": {
        "id": "Olhuv1XY4Vvj",
        "colab_type": "code",
        "colab": {
          "base_uri": "https://localhost:8080/",
          "height": 1000
        },
        "outputId": "728b074b-87c8-4b69-dfc0-a3565c1d305f"
      },
      "source": [
        "i = 1\n",
        "for i in range(1,6):\n",
        "  print('Day:',i)\n",
        "  day_para = i\n",
        "\n",
        "  # Company index extraction --------------------------------------------------\n",
        "  # specify url\n",
        "  if day_para ==1:\n",
        "    url  = f'https://www.moneycontrol.com/india/stockmarket/price-increase-volume-increase/marketstatistics/nse/{day_para}day.html'\n",
        "  if day_para >1:\n",
        "    url  = f'https://www.moneycontrol.com/india/stockmarket/price-increase-volume-increase/marketstatistics/nse/{day_para}days.html'\n",
        "  tab_id = 'cnstv-gainer-up'\n",
        "\n",
        "\n",
        "  page = requests.get(url)\n",
        "  # Parse html using BeautifulSoup, you can use a different parser like lxml if present\n",
        "  soup = BeautifulSoup(page.content, 'html.parser')\n",
        "  tbl = soup.find(\"table\",{\"id\":f\"{tab_id}\"})\n",
        "\n",
        "  t1 = pd.read_html(str(tbl))[0]\n",
        "  t1 = data_basic_clean(t1)\n",
        "  t1['company'] =  t1['company'].str.replace('Add to Watchlist Add to Portfolio','')\n",
        "\n",
        "\n",
        "  day1 =  pd.DataFrame(t1)\n",
        "  day1.head()\n",
        "  # Company prize extraction --------------------------------------------------\n",
        "\n",
        "  if day_para ==1:\n",
        "    url  = f'https://www.moneycontrol.com/india/stockmarket/price-increase-volume-increase/marketstatistics/nse/{day_para}day.html'\n",
        "  if day_para >1:\n",
        "    url  = f'https://www.moneycontrol.com/india/stockmarket/price-increase-volume-increase/marketstatistics/nse/{day_para}days.html'\n",
        "\n",
        "  tab_id = 'cnstv-gainer-up0'\n",
        "\n",
        "\n",
        "  page = requests.get(url)\n",
        "  # Parse html using BeautifulSoup, you can use a different parser like lxml if present\n",
        "  soup = BeautifulSoup(page.content, 'html.parser')\n",
        "  tbl = soup.find(\"table\",{\"id\":\"cnstv-gainer-up0\"})\n",
        "\n",
        "  t1 = pd.read_html(str(tbl))[0]\n",
        "  t1 = data_basic_clean(t1)\n",
        "  #t1['company'] =  t1['company'].str.replace('Add to Watchlist Add to Portfolio','')\n",
        "\n",
        "\n",
        "  day1_stock =  pd.DataFrame(t1)\n",
        "  day1_stock.head()\n",
        "\n",
        "\n",
        "\n",
        "  # Concatenating index + preize data frame -----------------------------------\n",
        "  d1_performance = pd.concat([day1,day1_stock],axis=1)\n",
        "  print(d1_performance.head(10))\n",
        "  # writing to drive ----------------------------------------------------------\n",
        "\n",
        "  d1_performance.to_excel(f'd{day_para}.xlsx',index=False)\n",
        "\n",
        "  from google.colab import files\n",
        "  files.download(f'd{day_para}.xlsx')\n",
        "\n",
        "\n",
        "\n",
        "\n",
        "\n",
        "  sleep(3)\n",
        "  print('-'*100)"
      ],
      "execution_count": 118,
      "outputs": [
        {
          "output_type": "stream",
          "text": [
            "Day: 1\n",
            "            company    price  change  ...  %change    volumes  deliv_vol\n",
            "0    Hexaware Tech    277.75   12.70  ...     4.79   497451.0   132664.0\n",
            "1             Atul   4202.25  156.25  ...     3.86    50961.0    38961.0\n",
            "2  Amrutanjan Heal    403.50   28.50  ...     7.60   158234.0    52310.0\n",
            "3     S P Apparels     78.30    3.70  ...     4.96     5159.0     4089.0\n",
            "4         Arcotech      1.00    0.05  ...     5.26    48449.0    33909.0\n",
            "5          Atlanta      3.45    0.15  ...     4.55     2625.0     2624.0\n",
            "6  Automotive Axle    463.55    7.15  ...     1.57    15269.0     9589.0\n",
            "7    Andhra Cement      2.60    0.40  ...    18.18   181913.0   160822.0\n",
            "8              ACC   1067.25   67.75  ...     6.78  2658885.0  1128891.0\n",
            "9          ATN Int      0.20    0.05  ...      NaN        NaN        NaN\n",
            "\n",
            "[10 rows x 9 columns]\n",
            "----------------------------------------------------------------------------------------------------\n",
            "Day: 2\n",
            "            company    price  change  ...  %change  volumes  deliv_vol\n",
            "0    Andhra Cement      2.60    0.40  ...    18.18   181913     160822\n",
            "1       Adlabs Ent      3.40    0.30  ...     9.68    39703      37800\n",
            "2  Metalyst Forgin      4.65    0.20  ...     4.49     3910       3895\n",
            "3          Archies      9.50    0.20  ...     2.15    34027      22798\n",
            "4       AksharChem    201.45   20.60  ...    11.39     6629       3396\n",
            "5     Shirpur Gold      7.35    0.15  ...     2.08    28407      19399\n",
            "6         Apar Ind    301.40    2.25  ...     0.75     7448       4337\n",
            "7      Adhunik Ind     14.20    0.25  ...     1.79     9733       8733\n",
            "8    Axis Gold ETF   4277.25  228.25  ...     5.64      807        549\n",
            "9     Ador Welding    213.25    5.80  ...     2.80     3585       1844\n",
            "\n",
            "[10 rows x 9 columns]\n",
            "----------------------------------------------------------------------------------------------------\n",
            "Day: 3\n",
            "            company   price  change  ...  %change  volumes  deliv_vol\n",
            "0    5paisa Capita   162.05   22.00  ...    15.71    22161      17404\n",
            "1             DPSC     9.75    1.05  ...    12.07    64766      42061\n",
            "2  Elgi Equipments   124.75    8.10  ...     6.94   125835     103766\n",
            "3   The Investment    91.80    4.35  ...     4.97     4669       4114\n",
            "4   Guj Sidhee Cem    18.60    2.15  ...    13.07    46910      26222\n",
            "5    Hi-Tech Pipes    95.10    2.25  ...     2.42     2694       2684\n",
            "6  The Hi-Tech Gea    94.10    6.25  ...     7.11     2849       2617\n",
            "7     Jindal Photo    13.75    1.25  ...    10.00    26729      12615\n",
            "8  Kakatiya Cement   134.80    5.80  ...     4.50    15213       7711\n",
            "9     Kamat Hotels    24.65    1.95  ...     8.59    59337      36050\n",
            "\n",
            "[10 rows x 9 columns]\n",
            "----------------------------------------------------------------------------------------------------\n",
            "Day: 4\n",
            "           company   price  change  ...  %change  volumes  deliv_vol\n",
            "0   5paisa Capita   162.05   22.00  ...    15.71    22161      17404\n",
            "1  The Investment    91.80    4.35  ...     4.97     4669       4114\n",
            "2    Jindal Photo    13.75    1.25  ...    10.00    26729      12615\n",
            "3    Kamat Hotels    24.65    1.95  ...     8.59    59337      36050\n",
            "4  Lincoln Pharma   142.90    6.80  ...     5.00    50258      39703\n",
            "5      Omax Autos    25.10    1.75  ...     7.49    11414       8666\n",
            "6      Oricon Ent    13.20    1.30  ...    10.92    65667      47145\n",
            "7       Patel Eng    14.05    0.75  ...     5.64   281504     200898\n",
            "8     Ramky Infra    26.10    3.10  ...    13.48    57425      39287\n",
            "9             TRF    72.65    9.80  ...    15.59    59661      24256\n",
            "\n",
            "[10 rows x 9 columns]\n",
            "----------------------------------------------------------------------------------------------------\n",
            "Day: 5\n",
            "      company  price  change  %change  ...  change  %change  volumes  deliv_vol\n",
            "0  Patel Eng   14.05    0.75     5.64  ...    0.75     5.64   281504     200898\n",
            "\n",
            "[1 rows x 9 columns]\n",
            "----------------------------------------------------------------------------------------------------\n"
          ],
          "name": "stdout"
        }
      ]
    },
    {
      "cell_type": "code",
      "metadata": {
        "id": "Zu4QwHQc4VyF",
        "colab_type": "code",
        "colab": {}
      },
      "source": [
        ""
      ],
      "execution_count": 0,
      "outputs": []
    },
    {
      "cell_type": "code",
      "metadata": {
        "id": "qhhSyLZH4V0-",
        "colab_type": "code",
        "colab": {}
      },
      "source": [
        ""
      ],
      "execution_count": 0,
      "outputs": []
    },
    {
      "cell_type": "code",
      "metadata": {
        "id": "BM4e109H4V4I",
        "colab_type": "code",
        "colab": {}
      },
      "source": [
        ""
      ],
      "execution_count": 0,
      "outputs": []
    },
    {
      "cell_type": "code",
      "metadata": {
        "id": "3CGHdjXY4V8F",
        "colab_type": "code",
        "colab": {}
      },
      "source": [
        ""
      ],
      "execution_count": 0,
      "outputs": []
    },
    {
      "cell_type": "code",
      "metadata": {
        "id": "6HP-tHIr4V-t",
        "colab_type": "code",
        "colab": {}
      },
      "source": [
        ""
      ],
      "execution_count": 0,
      "outputs": []
    },
    {
      "cell_type": "code",
      "metadata": {
        "id": "TwvU4B8Q4WCg",
        "colab_type": "code",
        "colab": {}
      },
      "source": [
        ""
      ],
      "execution_count": 0,
      "outputs": []
    },
    {
      "cell_type": "code",
      "metadata": {
        "id": "tm4PUnmYvkEa",
        "colab_type": "code",
        "colab": {}
      },
      "source": [
        "def call_me(day_para):\n",
        "  # specify url\n",
        "  url  = f'https://www.moneycontrol.com/india/stockmarket/price-increase-volume-increase/marketstatistics/nse/{day_para}day.html'\n",
        "  tab_id = 'cnstv-gainer-up'\n",
        "\n",
        "\n",
        "  page = requests.get(url)\n",
        "  # Parse html using BeautifulSoup, you can use a different parser like lxml if present\n",
        "  soup = BeautifulSoup(page.content, 'html.parser')\n",
        "  tbl = soup.find(\"table\",{\"id\":f\"{tab_id}\"})\n",
        "\n",
        "  t1 = pd.read_html(str(tbl))[0]\n",
        "  t1 = data_basic_clean(t1)\n",
        "  t1['company'] =  t1['company'].str.replace('Add to Watchlist Add to Portfolio','')\n",
        "  t1.head()\n",
        "\n",
        "  day1_comp =  pd.DataFrame(t1)\n",
        "\n",
        "  # -----------------------------------------------------------------------\n",
        "  # specify url\n",
        "  url  = f'https://www.moneycontrol.com/india/stockmarket/price-increase-volume-increase/marketstatistics/nse/{day_para}day.html'\n",
        "  tab_id = 'cnstv-gainer-up0'\n",
        "\n",
        "\n",
        "  page = requests.get(url)\n",
        "  # Parse html using BeautifulSoup, you can use a different parser like lxml if present\n",
        "  soup = BeautifulSoup(page.content, 'html.parser')\n",
        "  tbl = soup.find(\"table\",{\"id\":f\"{tab_id}\"})\n",
        "\n",
        "  t1 = pd.read_html(str(tbl))[0]\n",
        "  t1 = data_basic_clean(t1)\n",
        "  #t1['company'] =  t1['company'].str.replace('Add to Watchlist Add to Portfolio','')\n",
        "\n",
        "\n",
        "  day1_stock =  pd.DataFrame(t1)\n",
        "  day1_stock.head()\n",
        "  #------------------------------------------------------------------------\n",
        "\n",
        "  d1_performance = pd.concat([day1_comp,day1_stock],axis=1)\n",
        "  d1_performance.to_excel(f'd{day_para}.xlsx',index=False)\n",
        "  return()"
      ],
      "execution_count": 0,
      "outputs": []
    },
    {
      "cell_type": "code",
      "metadata": {
        "id": "a-ApkBKCvkHS",
        "colab_type": "code",
        "colab": {
          "base_uri": "https://localhost:8080/",
          "height": 306
        },
        "outputId": "e8d87828-a53e-4d2e-ee9a-befb801981d0"
      },
      "source": [
        "call_me(2)"
      ],
      "execution_count": 21,
      "outputs": [
        {
          "output_type": "error",
          "ename": "ValueError",
          "evalue": "ignored",
          "traceback": [
            "\u001b[0;31m---------------------------------------------------------------------------\u001b[0m",
            "\u001b[0;31mValueError\u001b[0m                                Traceback (most recent call last)",
            "\u001b[0;32m<ipython-input-21-899e36e60f36>\u001b[0m in \u001b[0;36m<module>\u001b[0;34m()\u001b[0m\n\u001b[0;32m----> 1\u001b[0;31m \u001b[0mcall_me\u001b[0m\u001b[0;34m(\u001b[0m\u001b[0;36m2\u001b[0m\u001b[0;34m)\u001b[0m\u001b[0;34m\u001b[0m\u001b[0;34m\u001b[0m\u001b[0m\n\u001b[0m",
            "\u001b[0;32m<ipython-input-19-4be744ea4f8a>\u001b[0m in \u001b[0;36mcall_me\u001b[0;34m(day_para)\u001b[0m\n\u001b[1;32m     10\u001b[0m   \u001b[0mtbl\u001b[0m \u001b[0;34m=\u001b[0m \u001b[0msoup\u001b[0m\u001b[0;34m.\u001b[0m\u001b[0mfind\u001b[0m\u001b[0;34m(\u001b[0m\u001b[0;34m\"table\"\u001b[0m\u001b[0;34m,\u001b[0m\u001b[0;34m{\u001b[0m\u001b[0;34m\"id\"\u001b[0m\u001b[0;34m:\u001b[0m\u001b[0;34mf\"{tab_id}\"\u001b[0m\u001b[0;34m}\u001b[0m\u001b[0;34m)\u001b[0m\u001b[0;34m\u001b[0m\u001b[0;34m\u001b[0m\u001b[0m\n\u001b[1;32m     11\u001b[0m \u001b[0;34m\u001b[0m\u001b[0m\n\u001b[0;32m---> 12\u001b[0;31m   \u001b[0mt1\u001b[0m \u001b[0;34m=\u001b[0m \u001b[0mpd\u001b[0m\u001b[0;34m.\u001b[0m\u001b[0mread_html\u001b[0m\u001b[0;34m(\u001b[0m\u001b[0mstr\u001b[0m\u001b[0;34m(\u001b[0m\u001b[0mtbl\u001b[0m\u001b[0;34m)\u001b[0m\u001b[0;34m)\u001b[0m\u001b[0;34m[\u001b[0m\u001b[0;36m0\u001b[0m\u001b[0;34m]\u001b[0m\u001b[0;34m\u001b[0m\u001b[0;34m\u001b[0m\u001b[0m\n\u001b[0m\u001b[1;32m     13\u001b[0m   \u001b[0mt1\u001b[0m \u001b[0;34m=\u001b[0m \u001b[0mdata_basic_clean\u001b[0m\u001b[0;34m(\u001b[0m\u001b[0mt1\u001b[0m\u001b[0;34m)\u001b[0m\u001b[0;34m\u001b[0m\u001b[0;34m\u001b[0m\u001b[0m\n\u001b[1;32m     14\u001b[0m   \u001b[0mt1\u001b[0m\u001b[0;34m[\u001b[0m\u001b[0;34m'company'\u001b[0m\u001b[0;34m]\u001b[0m \u001b[0;34m=\u001b[0m  \u001b[0mt1\u001b[0m\u001b[0;34m[\u001b[0m\u001b[0;34m'company'\u001b[0m\u001b[0;34m]\u001b[0m\u001b[0;34m.\u001b[0m\u001b[0mstr\u001b[0m\u001b[0;34m.\u001b[0m\u001b[0mreplace\u001b[0m\u001b[0;34m(\u001b[0m\u001b[0;34m'Add to Watchlist Add to Portfolio'\u001b[0m\u001b[0;34m,\u001b[0m\u001b[0;34m''\u001b[0m\u001b[0;34m)\u001b[0m\u001b[0;34m\u001b[0m\u001b[0;34m\u001b[0m\u001b[0m\n",
            "\u001b[0;32m/usr/local/lib/python3.6/dist-packages/pandas/io/html.py\u001b[0m in \u001b[0;36mread_html\u001b[0;34m(io, match, flavor, header, index_col, skiprows, attrs, parse_dates, thousands, encoding, decimal, converters, na_values, keep_default_na, displayed_only)\u001b[0m\n\u001b[1;32m   1098\u001b[0m         \u001b[0mna_values\u001b[0m\u001b[0;34m=\u001b[0m\u001b[0mna_values\u001b[0m\u001b[0;34m,\u001b[0m\u001b[0;34m\u001b[0m\u001b[0;34m\u001b[0m\u001b[0m\n\u001b[1;32m   1099\u001b[0m         \u001b[0mkeep_default_na\u001b[0m\u001b[0;34m=\u001b[0m\u001b[0mkeep_default_na\u001b[0m\u001b[0;34m,\u001b[0m\u001b[0;34m\u001b[0m\u001b[0;34m\u001b[0m\u001b[0m\n\u001b[0;32m-> 1100\u001b[0;31m         \u001b[0mdisplayed_only\u001b[0m\u001b[0;34m=\u001b[0m\u001b[0mdisplayed_only\u001b[0m\u001b[0;34m,\u001b[0m\u001b[0;34m\u001b[0m\u001b[0;34m\u001b[0m\u001b[0m\n\u001b[0m\u001b[1;32m   1101\u001b[0m     )\n",
            "\u001b[0;32m/usr/local/lib/python3.6/dist-packages/pandas/io/html.py\u001b[0m in \u001b[0;36m_parse\u001b[0;34m(flavor, io, match, attrs, encoding, displayed_only, **kwargs)\u001b[0m\n\u001b[1;32m    913\u001b[0m             \u001b[0;32mbreak\u001b[0m\u001b[0;34m\u001b[0m\u001b[0;34m\u001b[0m\u001b[0m\n\u001b[1;32m    914\u001b[0m     \u001b[0;32melse\u001b[0m\u001b[0;34m:\u001b[0m\u001b[0;34m\u001b[0m\u001b[0;34m\u001b[0m\u001b[0m\n\u001b[0;32m--> 915\u001b[0;31m         \u001b[0;32mraise\u001b[0m \u001b[0mretained\u001b[0m\u001b[0;34m\u001b[0m\u001b[0;34m\u001b[0m\u001b[0m\n\u001b[0m\u001b[1;32m    916\u001b[0m \u001b[0;34m\u001b[0m\u001b[0m\n\u001b[1;32m    917\u001b[0m     \u001b[0mret\u001b[0m \u001b[0;34m=\u001b[0m \u001b[0;34m[\u001b[0m\u001b[0;34m]\u001b[0m\u001b[0;34m\u001b[0m\u001b[0;34m\u001b[0m\u001b[0m\n",
            "\u001b[0;32m/usr/local/lib/python3.6/dist-packages/pandas/io/html.py\u001b[0m in \u001b[0;36m_parse\u001b[0;34m(flavor, io, match, attrs, encoding, displayed_only, **kwargs)\u001b[0m\n\u001b[1;32m    893\u001b[0m \u001b[0;34m\u001b[0m\u001b[0m\n\u001b[1;32m    894\u001b[0m         \u001b[0;32mtry\u001b[0m\u001b[0;34m:\u001b[0m\u001b[0;34m\u001b[0m\u001b[0;34m\u001b[0m\u001b[0m\n\u001b[0;32m--> 895\u001b[0;31m             \u001b[0mtables\u001b[0m \u001b[0;34m=\u001b[0m \u001b[0mp\u001b[0m\u001b[0;34m.\u001b[0m\u001b[0mparse_tables\u001b[0m\u001b[0;34m(\u001b[0m\u001b[0;34m)\u001b[0m\u001b[0;34m\u001b[0m\u001b[0;34m\u001b[0m\u001b[0m\n\u001b[0m\u001b[1;32m    896\u001b[0m         \u001b[0;32mexcept\u001b[0m \u001b[0mValueError\u001b[0m \u001b[0;32mas\u001b[0m \u001b[0mcaught\u001b[0m\u001b[0;34m:\u001b[0m\u001b[0;34m\u001b[0m\u001b[0;34m\u001b[0m\u001b[0m\n\u001b[1;32m    897\u001b[0m             \u001b[0;31m# if `io` is an io-like object, check if it's seekable\u001b[0m\u001b[0;34m\u001b[0m\u001b[0;34m\u001b[0m\u001b[0;34m\u001b[0m\u001b[0m\n",
            "\u001b[0;32m/usr/local/lib/python3.6/dist-packages/pandas/io/html.py\u001b[0m in \u001b[0;36mparse_tables\u001b[0;34m(self)\u001b[0m\n\u001b[1;32m    211\u001b[0m         \u001b[0mlist\u001b[0m \u001b[0mof\u001b[0m \u001b[0mparsed\u001b[0m \u001b[0;34m(\u001b[0m\u001b[0mheader\u001b[0m\u001b[0;34m,\u001b[0m \u001b[0mbody\u001b[0m\u001b[0;34m,\u001b[0m \u001b[0mfooter\u001b[0m\u001b[0;34m)\u001b[0m \u001b[0mtuples\u001b[0m \u001b[0;32mfrom\u001b[0m \u001b[0mtables\u001b[0m\u001b[0;34m.\u001b[0m\u001b[0;34m\u001b[0m\u001b[0;34m\u001b[0m\u001b[0m\n\u001b[1;32m    212\u001b[0m         \"\"\"\n\u001b[0;32m--> 213\u001b[0;31m         \u001b[0mtables\u001b[0m \u001b[0;34m=\u001b[0m \u001b[0mself\u001b[0m\u001b[0;34m.\u001b[0m\u001b[0m_parse_tables\u001b[0m\u001b[0;34m(\u001b[0m\u001b[0mself\u001b[0m\u001b[0;34m.\u001b[0m\u001b[0m_build_doc\u001b[0m\u001b[0;34m(\u001b[0m\u001b[0;34m)\u001b[0m\u001b[0;34m,\u001b[0m \u001b[0mself\u001b[0m\u001b[0;34m.\u001b[0m\u001b[0mmatch\u001b[0m\u001b[0;34m,\u001b[0m \u001b[0mself\u001b[0m\u001b[0;34m.\u001b[0m\u001b[0mattrs\u001b[0m\u001b[0;34m)\u001b[0m\u001b[0;34m\u001b[0m\u001b[0;34m\u001b[0m\u001b[0m\n\u001b[0m\u001b[1;32m    214\u001b[0m         \u001b[0;32mreturn\u001b[0m \u001b[0;34m(\u001b[0m\u001b[0mself\u001b[0m\u001b[0;34m.\u001b[0m\u001b[0m_parse_thead_tbody_tfoot\u001b[0m\u001b[0;34m(\u001b[0m\u001b[0mtable\u001b[0m\u001b[0;34m)\u001b[0m \u001b[0;32mfor\u001b[0m \u001b[0mtable\u001b[0m \u001b[0;32min\u001b[0m \u001b[0mtables\u001b[0m\u001b[0;34m)\u001b[0m\u001b[0;34m\u001b[0m\u001b[0;34m\u001b[0m\u001b[0m\n\u001b[1;32m    215\u001b[0m \u001b[0;34m\u001b[0m\u001b[0m\n",
            "\u001b[0;32m/usr/local/lib/python3.6/dist-packages/pandas/io/html.py\u001b[0m in \u001b[0;36m_parse_tables\u001b[0;34m(self, doc, match, attrs)\u001b[0m\n\u001b[1;32m    543\u001b[0m \u001b[0;34m\u001b[0m\u001b[0m\n\u001b[1;32m    544\u001b[0m         \u001b[0;32mif\u001b[0m \u001b[0;32mnot\u001b[0m \u001b[0mtables\u001b[0m\u001b[0;34m:\u001b[0m\u001b[0;34m\u001b[0m\u001b[0;34m\u001b[0m\u001b[0m\n\u001b[0;32m--> 545\u001b[0;31m             \u001b[0;32mraise\u001b[0m \u001b[0mValueError\u001b[0m\u001b[0;34m(\u001b[0m\u001b[0;34m\"No tables found\"\u001b[0m\u001b[0;34m)\u001b[0m\u001b[0;34m\u001b[0m\u001b[0;34m\u001b[0m\u001b[0m\n\u001b[0m\u001b[1;32m    546\u001b[0m \u001b[0;34m\u001b[0m\u001b[0m\n\u001b[1;32m    547\u001b[0m         \u001b[0mresult\u001b[0m \u001b[0;34m=\u001b[0m \u001b[0;34m[\u001b[0m\u001b[0;34m]\u001b[0m\u001b[0;34m\u001b[0m\u001b[0;34m\u001b[0m\u001b[0m\n",
            "\u001b[0;31mValueError\u001b[0m: No tables found"
          ]
        }
      ]
    },
    {
      "cell_type": "code",
      "metadata": {
        "id": "rYavnTRWvkKF",
        "colab_type": "code",
        "colab": {}
      },
      "source": [
        ""
      ],
      "execution_count": 0,
      "outputs": []
    },
    {
      "cell_type": "code",
      "metadata": {
        "id": "479qkgEGvkM3",
        "colab_type": "code",
        "colab": {}
      },
      "source": [
        ""
      ],
      "execution_count": 0,
      "outputs": []
    },
    {
      "cell_type": "code",
      "metadata": {
        "id": "3gx4bns8vkQB",
        "colab_type": "code",
        "colab": {}
      },
      "source": [
        ""
      ],
      "execution_count": 0,
      "outputs": []
    },
    {
      "cell_type": "code",
      "metadata": {
        "id": "O0K04rfMvkS3",
        "colab_type": "code",
        "colab": {}
      },
      "source": [
        ""
      ],
      "execution_count": 0,
      "outputs": []
    },
    {
      "cell_type": "code",
      "metadata": {
        "id": "cRxWLwBtZJsv",
        "colab_type": "code",
        "colab": {}
      },
      "source": [
        "def get_volumne_table(urli,tab_id,compani):\n",
        "  # specify url\n",
        "  url #= uri #'https://www.moneycontrol.com/india/stockmarket/price-increase-volume-increase/marketstatistics/nse/1day.html'\n",
        "  #tab_id = 'cnstv-gainer-up'\n",
        "  # request html\n",
        "  page = requests.get(url)\n",
        "\n",
        "  # Parse html using BeautifulSoup, you can use a different parser like lxml if present\n",
        "  soup = BeautifulSoup(page.content, 'html.parser')\n",
        "  tbl = soup.find(\"table\",{\"id\":f\"{tab_id}\"})\n",
        "  def trim_all_columns(df):\n",
        "    \"\"\"\n",
        "    Trim whitespace from ends of each value across all series in dataframe\n",
        "    \"\"\"\n",
        "    trim_strings = lambda x: x.strip() if isinstance(x, str) else x\n",
        "    return df.applymap(trim_strings)\n",
        "  def data_basic_clean(fsh):\n",
        "      fsh.columns = [c.strip() for c in fsh.columns]\n",
        "      fsh.columns = [c.replace(' ', '_') for c in fsh.columns]\n",
        "      fsh.columns = [c.replace('?', '') for c in fsh.columns]\n",
        "      fsh.columns = map(str.lower, fsh.columns)\n",
        "      fsh.replace(['None','nan','Nan',' ','NaT','#REF!'],np.nan,inplace=True)\n",
        "      \n",
        "      fsh = trim_all_columns(fsh)\n",
        "      fsh=fsh.drop_duplicates(keep='last')\n",
        "      df = pd.DataFrame(fsh)\n",
        "      return(df)\n",
        "  t1 = pd.read_html(str(tbl))[0]\n",
        "  t1 = data_basic_clean(t1)\n",
        "  if compani == True:\n",
        "    t1['company'] =  t1['company'].str.replace('Add to Watchlist Add to Portfolio','')\n",
        "  print(t1.shape)\n",
        "  return(t1)"
      ],
      "execution_count": 0,
      "outputs": []
    },
    {
      "cell_type": "code",
      "metadata": {
        "id": "Q5Y-2xz3UdpW",
        "colab_type": "code",
        "colab": {}
      },
      "source": [
        "urli = 'https://www.moneycontrol.com/india/stockmarket/price-increase-volume-increase/marketstatistics/nse/1day.html'\n",
        "#tab_id = 'cnstv-gainer-up'\n",
        "tab_id = 'cnstv-gainer-up0'\n",
        "df = get_volumne_table(urli,tab_id,compani=False)\n",
        "\n",
        "\n"
      ],
      "execution_count": 0,
      "outputs": []
    },
    {
      "cell_type": "code",
      "metadata": {
        "id": "-l6VdGUcUtu0",
        "colab_type": "code",
        "colab": {}
      },
      "source": [
        "day_index = 1\n",
        "#for day_index in range(1,(5+1)):\n",
        "print(day_index)\n",
        "#print(\"'https://www.moneycontrol.com/india/stockmarket/price-increase-volume-increase/marketstatistics/nse/{}day.html'\".format(day_index))\n",
        "urli = f\"'https://www.moneycontrol.com/india/stockmarket/price-increase-volume-increase/marketstatistics/nse/{day_index}day.html'\"\n",
        "print(urli)\n",
        "company_index = 'cnstv-gainer-up'\n",
        "df1 = get_volumne_table(urli,tab_id = company_index,compani=True)\n",
        "#sleep(3)"
      ],
      "execution_count": 0,
      "outputs": []
    },
    {
      "cell_type": "code",
      "metadata": {
        "id": "hGaz26Caegnq",
        "colab_type": "code",
        "colab": {}
      },
      "source": [
        "urli= 'https://www.moneycontrol.com/india/stockmarket/price-increase-volume-increase/marketstatistics/nse/1day.html'\n",
        "company_index = 'cnstv-gainer-up'\n",
        "get_volumne_table(urli,tab_id = company_index,compani=True)"
      ],
      "execution_count": 0,
      "outputs": []
    },
    {
      "cell_type": "code",
      "metadata": {
        "id": "YbuIWDVfUt50",
        "colab_type": "code",
        "colab": {
          "base_uri": "https://localhost:8080/",
          "height": 187
        },
        "outputId": "859e8c63-c8d0-4fbb-ff9b-c589d3ca02f4"
      },
      "source": [
        "\n",
        "\n",
        "for i in range(10):\n",
        "    print(i)\n",
        "    sleep(3)"
      ],
      "execution_count": 38,
      "outputs": [
        {
          "output_type": "stream",
          "text": [
            "0\n",
            "1\n",
            "2\n",
            "3\n",
            "4\n",
            "5\n",
            "6\n",
            "7\n",
            "8\n",
            "9\n"
          ],
          "name": "stdout"
        }
      ]
    },
    {
      "cell_type": "code",
      "metadata": {
        "id": "CwohSXG5Wb64",
        "colab_type": "code",
        "colab": {}
      },
      "source": [
        "import pandas as pd\n",
        "import numpy as np\n"
      ],
      "execution_count": 0,
      "outputs": []
    },
    {
      "cell_type": "code",
      "metadata": {
        "id": "y4Fe6tLLUuBS",
        "colab_type": "code",
        "colab": {
          "base_uri": "https://localhost:8080/",
          "height": 204
        },
        "outputId": "3a923eef-ece2-42f1-b59d-5f8c0bfb0784"
      },
      "source": [
        "\n",
        "t1 = pd.read_html(str(tbl))[0]\n",
        "t1 = data_basic_clean(t1)\n",
        "t1.head()"
      ],
      "execution_count": 62,
      "outputs": [
        {
          "output_type": "execute_result",
          "data": {
            "text/html": [
              "<div>\n",
              "<style scoped>\n",
              "    .dataframe tbody tr th:only-of-type {\n",
              "        vertical-align: middle;\n",
              "    }\n",
              "\n",
              "    .dataframe tbody tr th {\n",
              "        vertical-align: top;\n",
              "    }\n",
              "\n",
              "    .dataframe thead th {\n",
              "        text-align: right;\n",
              "    }\n",
              "</style>\n",
              "<table border=\"1\" class=\"dataframe\">\n",
              "  <thead>\n",
              "    <tr style=\"text-align: right;\">\n",
              "      <th></th>\n",
              "      <th>company</th>\n",
              "      <th>price</th>\n",
              "      <th>change</th>\n",
              "      <th>%change</th>\n",
              "    </tr>\n",
              "  </thead>\n",
              "  <tbody>\n",
              "    <tr>\n",
              "      <th>0</th>\n",
              "      <td>Hexaware Tech Add to Watchlist Add to Portfolio</td>\n",
              "      <td>277.75</td>\n",
              "      <td>12.70</td>\n",
              "      <td>4.79</td>\n",
              "    </tr>\n",
              "    <tr>\n",
              "      <th>1</th>\n",
              "      <td>Atul Add to Watchlist Add to Portfolio</td>\n",
              "      <td>4202.25</td>\n",
              "      <td>156.25</td>\n",
              "      <td>3.86</td>\n",
              "    </tr>\n",
              "    <tr>\n",
              "      <th>2</th>\n",
              "      <td>Amrutanjan Heal Add to Watchlist Add to Portfolio</td>\n",
              "      <td>403.50</td>\n",
              "      <td>28.50</td>\n",
              "      <td>7.60</td>\n",
              "    </tr>\n",
              "    <tr>\n",
              "      <th>3</th>\n",
              "      <td>S P Apparels Add to Watchlist Add to Portfolio</td>\n",
              "      <td>78.30</td>\n",
              "      <td>3.70</td>\n",
              "      <td>4.96</td>\n",
              "    </tr>\n",
              "    <tr>\n",
              "      <th>4</th>\n",
              "      <td>Arcotech Add to Watchlist Add to Portfolio</td>\n",
              "      <td>1.00</td>\n",
              "      <td>0.05</td>\n",
              "      <td>5.26</td>\n",
              "    </tr>\n",
              "  </tbody>\n",
              "</table>\n",
              "</div>"
            ],
            "text/plain": [
              "                                             company    price  change  %change\n",
              "0    Hexaware Tech Add to Watchlist Add to Portfolio   277.75   12.70     4.79\n",
              "1             Atul Add to Watchlist Add to Portfolio  4202.25  156.25     3.86\n",
              "2  Amrutanjan Heal Add to Watchlist Add to Portfolio   403.50   28.50     7.60\n",
              "3     S P Apparels Add to Watchlist Add to Portfolio    78.30    3.70     4.96\n",
              "4         Arcotech Add to Watchlist Add to Portfolio     1.00    0.05     5.26"
            ]
          },
          "metadata": {
            "tags": []
          },
          "execution_count": 62
        }
      ]
    },
    {
      "cell_type": "code",
      "metadata": {
        "id": "ZXHSRU-SVMAj",
        "colab_type": "code",
        "colab": {
          "base_uri": "https://localhost:8080/",
          "height": 34
        },
        "outputId": "d20f6ce1-86f6-43bc-df54-98244b331732"
      },
      "source": [
        "t1.columns"
      ],
      "execution_count": 57,
      "outputs": [
        {
          "output_type": "execute_result",
          "data": {
            "text/plain": [
              "Index(['company', 'price', 'change', '%change'], dtype='object')"
            ]
          },
          "metadata": {
            "tags": []
          },
          "execution_count": 57
        }
      ]
    },
    {
      "cell_type": "code",
      "metadata": {
        "id": "Q1skL1rDXRpm",
        "colab_type": "code",
        "colab": {}
      },
      "source": [
        "t1['company'] =  t1['company'].str.replace('Add to Watchlist Add to Portfolio','')"
      ],
      "execution_count": 0,
      "outputs": []
    },
    {
      "cell_type": "code",
      "metadata": {
        "id": "DS7jZrhVXUqa",
        "colab_type": "code",
        "colab": {
          "base_uri": "https://localhost:8080/",
          "height": 34
        },
        "outputId": "ae1dd8b6-488b-41fd-8aca-c96481a39104"
      },
      "source": [
        "t1.shape"
      ],
      "execution_count": 59,
      "outputs": [
        {
          "output_type": "execute_result",
          "data": {
            "text/plain": [
              "(783, 4)"
            ]
          },
          "metadata": {
            "tags": []
          },
          "execution_count": 59
        }
      ]
    },
    {
      "cell_type": "code",
      "metadata": {
        "id": "xTfOMMErXcN_",
        "colab_type": "code",
        "colab": {}
      },
      "source": [
        ""
      ],
      "execution_count": 0,
      "outputs": []
    }
  ]
}